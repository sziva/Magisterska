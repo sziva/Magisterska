{
 "cells": [
  {
   "cell_type": "code",
   "execution_count": 8,
   "id": "1b19b5d7",
   "metadata": {},
   "outputs": [],
   "source": [
    "import cobra\n",
    "import pandas as pd"
   ]
  },
  {
   "cell_type": "code",
   "execution_count": 9,
   "id": "f00ced35",
   "metadata": {},
   "outputs": [
    {
     "name": "stderr",
     "output_type": "stream",
     "text": [
      "No defined compartments in model Recon3DModel. Compartments will be deduced heuristically using regular expressions.\n",
      "Using regular expression found the following compartments:c, e, g, i, l, m, n, r, x\n",
      "No defined compartments in model Recon3D. Compartments will be deduced heuristically using regular expressions.\n",
      "Using regular expression found the following compartments:c, e, g, i, l, m, n, r, x\n"
     ]
    }
   ],
   "source": [
    "model_mat_model = cobra.io.load_matlab_model('/Users/zivaskof/Documents/MATLAB/mag/subsystem_enrichment/Recon3DModel_301.mat')\n",
    "model_mat = cobra.io.load_matlab_model('/Users/zivaskof/Documents/MATLAB/mag/subsystem_enrichment/Recon3D_301.mat')"
   ]
  },
  {
   "cell_type": "code",
   "execution_count": null,
   "id": "8877c4ce",
   "metadata": {},
   "outputs": [],
   "source": [
    "reactions_subsystems = {}\n",
    "for r in model_mat.reactions:\n",
    "    reactions_subsystems[r.id] = r.subsystem\n",
    "    \n",
    "reactions_subsystems_model = {}\n",
    "for r in model_mat_model.reactions:\n",
    "    reactions_subsystems_model[r.id] = r.subsystem"
   ]
  },
  {
   "cell_type": "code",
   "execution_count": 11,
   "id": "bbdd4d76",
   "metadata": {},
   "outputs": [],
   "source": [
    "df_subsystems = pd.DataFrame()\n",
    "df_subsystems['subsystem'] = reactions_subsystems.values()\n",
    "df_subsystems2 = pd.DataFrame()\n",
    "df_subsystems2['reaction'] = reactions_subsystems.keys()\n",
    "df_subsystems.to_csv('/Users/zivaskof/Documents/MATLAB/mag/subsystem_enrichment/subsystems.csv', index=False)\n",
    "df_subsystems2.to_csv('/Users/zivaskof/Documents/MATLAB/mag/subsystem_enrichment/subsystems2.csv', index=False)\n",
    "\n",
    "df_subsystems_model = pd.DataFrame()\n",
    "df_subsystems_model['subsystem'] = reactions_subsystems_model.values()\n",
    "df_subsystems_model2 = pd.DataFrame()\n",
    "df_subsystems_model2['reaction'] = reactions_subsystems_model.keys()\n",
    "df_subsystems_model.to_csv('/Users/zivaskof/Documents/MATLAB/mag/subsystem_enrichment/subsystems_model.csv', index=False)\n",
    "df_subsystems_model2.to_csv('/Users/zivaskof/Documents/MATLAB/mag/subsystem_enrichment/subsystems_model2.csv', index=False)\n"
   ]
  },
  {
   "cell_type": "code",
   "execution_count": null,
   "id": "65b673d8",
   "metadata": {},
   "outputs": [],
   "source": []
  }
 ],
 "metadata": {
  "kernelspec": {
   "display_name": "Python 3 (ipykernel)",
   "language": "python",
   "name": "python3"
  },
  "language_info": {
   "codemirror_mode": {
    "name": "ipython",
    "version": 3
   },
   "file_extension": ".py",
   "mimetype": "text/x-python",
   "name": "python",
   "nbconvert_exporter": "python",
   "pygments_lexer": "ipython3",
   "version": "3.11.3"
  }
 },
 "nbformat": 4,
 "nbformat_minor": 5
}
