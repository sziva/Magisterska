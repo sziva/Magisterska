{
 "cells": [
  {
   "cell_type": "code",
   "execution_count": 1,
   "id": "d76ede3f",
   "metadata": {},
   "outputs": [],
   "source": [
    "import pandas as pd\n",
    "import numpy as np\n",
    "\n",
    "import pickle\n",
    "import os\n",
    "import os.path\n",
    "\n",
    "import scipy.io\n",
    "from scipy.linalg import LinAlgError  # Import LinAlgError\n",
    "\n",
    "import cobra\n",
    "from cobra.io import load_model, load_matlab_model\n",
    "from cobra.sampling import OptGPSampler, ACHRSampler, sample"
   ]
  },
  {
   "cell_type": "code",
   "execution_count": 2,
   "id": "1507d27e",
   "metadata": {},
   "outputs": [],
   "source": [
    "folder_path = '/Users/zivaskof/Documents/MATLAB/mag/GimmeModels/gimme_cobra'\n",
    "output_path = '/Users/zivaskof/Documents/MATLAB/mag/fluxSampels/GimmeSampels/cobra'"
   ]
  },
  {
   "cell_type": "code",
   "execution_count": null,
   "id": "dfd1f45f",
   "metadata": {},
   "outputs": [
    {
     "name": "stdout",
     "output_type": "stream",
     "text": [
      "78\n",
      "Gimme_modelC_I_KM_025T.mat\n"
     ]
    },
    {
     "name": "stderr",
     "output_type": "stream",
     "text": [
      "No defined compartments in model Gimme_model_I. Compartments will be deduced heuristically using regular expressions.\n",
      "Using regular expression found the following compartments:c, e, g, i, l, m, n, r, x\n"
     ]
    }
   ],
   "source": [
    "filenames = os.listdir(folder_path)\n",
    "filenames.sort()\n",
    "\n",
    "#i = 77 ni izvedel\n",
    "i = 78\n",
    "for filename in filenames[i:]:\n",
    "    print(i)\n",
    "    if not filename.startswith('.'):\n",
    "        print(filename)\n",
    "        file_path = os.path.join(folder_path, filename)\n",
    "\n",
    "        try:\n",
    "            model = load_matlab_model(file_path)\n",
    "            model_sample = sample(model, 1000, method=\"achr\")\n",
    "\n",
    "            file_name = filename.split(\"_\", maxsplit=3)[-1][:-4]\n",
    "            new_file_name = \"gimme_flux_sample_\" + file_name + \".csv\"\n",
    "            csv_file_path = os.path.join(output_path, new_file_name)\n",
    "\n",
    "            model_sample.to_csv(csv_file_path, index=False) \n",
    "            #np.save(new_file_name, model_sample, index = False)\n",
    "\n",
    "        except Exception as e:\n",
    "                print(f\"Error processing {filename}: {e}\")\n",
    "                continue  # Skip to the next iteration"
   ]
  },
  {
   "cell_type": "code",
   "execution_count": null,
   "id": "b6274e62",
   "metadata": {},
   "outputs": [],
   "source": []
  }
 ],
 "metadata": {
  "kernelspec": {
   "display_name": "Python 3 (ipykernel)",
   "language": "python",
   "name": "python3"
  },
  "language_info": {
   "codemirror_mode": {
    "name": "ipython",
    "version": 3
   },
   "file_extension": ".py",
   "mimetype": "text/x-python",
   "name": "python",
   "nbconvert_exporter": "python",
   "pygments_lexer": "ipython3",
   "version": "3.11.3"
  }
 },
 "nbformat": 4,
 "nbformat_minor": 5
}
