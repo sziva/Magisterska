{
 "cells": [
  {
   "cell_type": "code",
   "execution_count": 24,
   "id": "510c7308",
   "metadata": {},
   "outputs": [],
   "source": [
    "import pandas as pd\n",
    "import numpy as np\n",
    "\n",
    "import pickle\n",
    "import os.path\n",
    "import scipy.io\n",
    "\n",
    "import cobra\n",
    "from cobra.io import load_model, load_matlab_model\n",
    "from cobra.sampling import OptGPSampler, ACHRSampler, sample"
   ]
  },
  {
   "cell_type": "code",
   "execution_count": 25,
   "id": "ff4ac2a7",
   "metadata": {},
   "outputs": [],
   "source": [
    "folder_path = '/Users/zivaskof/Documents/MATLAB/mag/imatModels/raven_models'\n",
    "output_path = '/Users/zivaskof/Documents/MATLAB/mag/fluxSampels/iMATSampels'"
   ]
  },
  {
   "cell_type": "code",
   "execution_count": 26,
   "id": "54a835e3",
   "metadata": {},
   "outputs": [
    {
     "name": "stdout",
     "output_type": "stream",
     "text": [
      "iMAT_model_H_KM_001N.mat\n",
      "/Users/zivaskof/Documents/MATLAB/mag/imatModels/raven_models/iMAT_model_H_KM_001N.mat\n"
     ]
    },
    {
     "ename": "IndexError",
     "evalue": "list index out of range",
     "output_type": "error",
     "traceback": [
      "\u001b[0;31m---------------------------------------------------------------------------\u001b[0m",
      "\u001b[0;31mIndexError\u001b[0m                                Traceback (most recent call last)",
      "Cell \u001b[0;32mIn[26], line 10\u001b[0m\n\u001b[1;32m      7\u001b[0m file_path \u001b[38;5;241m=\u001b[39m os\u001b[38;5;241m.\u001b[39mpath\u001b[38;5;241m.\u001b[39mjoin(folder_path, filename)\n\u001b[1;32m      8\u001b[0m \u001b[38;5;28mprint\u001b[39m(file_path)\n\u001b[0;32m---> 10\u001b[0m model \u001b[38;5;241m=\u001b[39m load_matlab_model(file_path)\n\u001b[1;32m     11\u001b[0m model_sample \u001b[38;5;241m=\u001b[39m sample(model, \u001b[38;5;241m1000\u001b[39m, method\u001b[38;5;241m=\u001b[39m\u001b[38;5;124m\"\u001b[39m\u001b[38;5;124machr\u001b[39m\u001b[38;5;124m\"\u001b[39m)\n\u001b[1;32m     13\u001b[0m file_name \u001b[38;5;241m=\u001b[39m filename\u001b[38;5;241m.\u001b[39msplit(\u001b[38;5;124m\"\u001b[39m\u001b[38;5;124m_\u001b[39m\u001b[38;5;124m\"\u001b[39m, maxsplit\u001b[38;5;241m=\u001b[39m\u001b[38;5;241m3\u001b[39m)[\u001b[38;5;241m-\u001b[39m\u001b[38;5;241m1\u001b[39m][:\u001b[38;5;241m-\u001b[39m\u001b[38;5;241m4\u001b[39m]\n",
      "File \u001b[0;32m~/anaconda3/lib/python3.11/site-packages/cobra/io/mat.py:341\u001b[0m, in \u001b[0;36mload_matlab_model\u001b[0;34m(infile_path, variable_name, inf)\u001b[0m\n\u001b[1;32m    339\u001b[0m \u001b[38;5;28;01mfor\u001b[39;00m possible_name \u001b[38;5;129;01min\u001b[39;00m possible_names:\n\u001b[1;32m    340\u001b[0m     \u001b[38;5;28;01mtry\u001b[39;00m:\n\u001b[0;32m--> 341\u001b[0m         \u001b[38;5;28;01mreturn\u001b[39;00m from_mat_struct(data[possible_name], model_id\u001b[38;5;241m=\u001b[39mpossible_name, inf\u001b[38;5;241m=\u001b[39minf)\n\u001b[1;32m    342\u001b[0m     \u001b[38;5;28;01mexcept\u001b[39;00m \u001b[38;5;167;01mValueError\u001b[39;00m \u001b[38;5;28;01mas\u001b[39;00m e:\n\u001b[1;32m    343\u001b[0m         \u001b[38;5;28mprint\u001b[39m(\u001b[38;5;124mf\u001b[39m\u001b[38;5;124m\"\u001b[39m\u001b[38;5;124mSome problem with the model, causing error \u001b[39m\u001b[38;5;132;01m{\u001b[39;00me\u001b[38;5;132;01m}\u001b[39;00m\u001b[38;5;124m\"\u001b[39m)\n",
      "File \u001b[0;32m~/anaconda3/lib/python3.11/site-packages/cobra/io/mat.py:896\u001b[0m, in \u001b[0;36mfrom_mat_struct\u001b[0;34m(mat_struct, model_id, inf)\u001b[0m\n\u001b[1;32m    894\u001b[0m         new_reaction\u001b[38;5;241m.\u001b[39mgene_reaction_rule \u001b[38;5;241m=\u001b[39m rxn_gene_rules[i]\n\u001b[1;32m    895\u001b[0m     new_reactions\u001b[38;5;241m.\u001b[39mappend(new_reaction)\n\u001b[0;32m--> 896\u001b[0m mat_parse_annotations(new_reactions, m, d_replace\u001b[38;5;241m=\u001b[39mDICT_REACTION)\n\u001b[1;32m    897\u001b[0m \u001b[38;5;66;03m# TODO - When cobrapy.notes are revised not be a dictionary (possibly when\u001b[39;00m\n\u001b[1;32m    898\u001b[0m \u001b[38;5;66;03m#  annotations are fully SBML compliant, revise this function.\u001b[39;00m\n\u001b[1;32m    899\u001b[0m mat_parse_notes(new_reactions, m, d_replace\u001b[38;5;241m=\u001b[39mDICT_REACTION_NOTES)\n",
      "File \u001b[0;32m~/anaconda3/lib/python3.11/site-packages/cobra/io/mat.py:441\u001b[0m, in \u001b[0;36mmat_parse_annotations\u001b[0;34m(target_list, mat_struct, d_replace)\u001b[0m\n\u001b[1;32m    434\u001b[0m         annotations[name] \u001b[38;5;241m=\u001b[39m [\n\u001b[1;32m    435\u001b[0m             [y\u001b[38;5;241m.\u001b[39mstrip() \u001b[38;5;28;01mfor\u001b[39;00m y \u001b[38;5;129;01min\u001b[39;00m each_cell\u001b[38;5;241m.\u001b[39msplit(\u001b[38;5;124m\"\u001b[39m\u001b[38;5;124m, \u001b[39m\u001b[38;5;124m\"\u001b[39m)] \u001b[38;5;28;01mif\u001b[39;00m each_cell \u001b[38;5;28;01melse\u001b[39;00m \u001b[38;5;28;01mNone\u001b[39;00m\n\u001b[1;32m    436\u001b[0m             \u001b[38;5;28;01mfor\u001b[39;00m each_cell \u001b[38;5;129;01min\u001b[39;00m _cell_to_str_list(\n\u001b[1;32m    437\u001b[0m                 mat_struct[caseunfold[mat_key]][\u001b[38;5;241m0\u001b[39m, \u001b[38;5;241m0\u001b[39m]\n\u001b[1;32m    438\u001b[0m             )\n\u001b[1;32m    439\u001b[0m         ]\n\u001b[1;32m    440\u001b[0m \u001b[38;5;28;01mfor\u001b[39;00m i, obj \u001b[38;5;129;01min\u001b[39;00m \u001b[38;5;28menumerate\u001b[39m(target_list):\n\u001b[0;32m--> 441\u001b[0m     obj\u001b[38;5;241m.\u001b[39mannotation \u001b[38;5;241m=\u001b[39m {\n\u001b[1;32m    442\u001b[0m         prov: annotations[prov][i] \u001b[38;5;28;01mfor\u001b[39;00m prov \u001b[38;5;129;01min\u001b[39;00m providers \u001b[38;5;28;01mif\u001b[39;00m annotations[prov][i]\n\u001b[1;32m    443\u001b[0m     }\n",
      "File \u001b[0;32m~/anaconda3/lib/python3.11/site-packages/cobra/io/mat.py:442\u001b[0m, in \u001b[0;36m<dictcomp>\u001b[0;34m(.0)\u001b[0m\n\u001b[1;32m    434\u001b[0m         annotations[name] \u001b[38;5;241m=\u001b[39m [\n\u001b[1;32m    435\u001b[0m             [y\u001b[38;5;241m.\u001b[39mstrip() \u001b[38;5;28;01mfor\u001b[39;00m y \u001b[38;5;129;01min\u001b[39;00m each_cell\u001b[38;5;241m.\u001b[39msplit(\u001b[38;5;124m\"\u001b[39m\u001b[38;5;124m, \u001b[39m\u001b[38;5;124m\"\u001b[39m)] \u001b[38;5;28;01mif\u001b[39;00m each_cell \u001b[38;5;28;01melse\u001b[39;00m \u001b[38;5;28;01mNone\u001b[39;00m\n\u001b[1;32m    436\u001b[0m             \u001b[38;5;28;01mfor\u001b[39;00m each_cell \u001b[38;5;129;01min\u001b[39;00m _cell_to_str_list(\n\u001b[1;32m    437\u001b[0m                 mat_struct[caseunfold[mat_key]][\u001b[38;5;241m0\u001b[39m, \u001b[38;5;241m0\u001b[39m]\n\u001b[1;32m    438\u001b[0m             )\n\u001b[1;32m    439\u001b[0m         ]\n\u001b[1;32m    440\u001b[0m \u001b[38;5;28;01mfor\u001b[39;00m i, obj \u001b[38;5;129;01min\u001b[39;00m \u001b[38;5;28menumerate\u001b[39m(target_list):\n\u001b[1;32m    441\u001b[0m     obj\u001b[38;5;241m.\u001b[39mannotation \u001b[38;5;241m=\u001b[39m {\n\u001b[0;32m--> 442\u001b[0m         prov: annotations[prov][i] \u001b[38;5;28;01mfor\u001b[39;00m prov \u001b[38;5;129;01min\u001b[39;00m providers \u001b[38;5;28;01mif\u001b[39;00m annotations[prov][i]\n\u001b[1;32m    443\u001b[0m     }\n",
      "\u001b[0;31mIndexError\u001b[0m: list index out of range"
     ]
    }
   ],
   "source": [
    "filenames = os.listdir(folder_path)\n",
    "filenames.sort()\n",
    "\n",
    "for filename in filenames:\n",
    "    \n",
    "    print(filename)\n",
    "    file_path = os.path.join(folder_path, filename)\n",
    "    print(file_path)\n",
    "\n",
    "    model = load_matlab_model(file_path)\n",
    "    model_sample = sample(model, 1000, method=\"achr\")\n",
    "    \n",
    "    file_name = filename.split(\"_\", maxsplit=3)[-1][:-4]\n",
    "    new_file_name = \"iMAT_flux_sample_\" + file_name + \".csv\"\n",
    "    csv_file_path = os.path.join(output_path, new_file_name)\n",
    "    \n",
    "    model_sample.to_csv(csv_file_path, index=False) \n",
    "    #np.save(new_file_name, model_sample, index = False)"
   ]
  },
  {
   "cell_type": "code",
   "execution_count": null,
   "id": "3eca83ee",
   "metadata": {},
   "outputs": [],
   "source": []
  }
 ],
 "metadata": {
  "kernelspec": {
   "display_name": "Python 3 (ipykernel)",
   "language": "python",
   "name": "python3"
  },
  "language_info": {
   "codemirror_mode": {
    "name": "ipython",
    "version": 3
   },
   "file_extension": ".py",
   "mimetype": "text/x-python",
   "name": "python",
   "nbconvert_exporter": "python",
   "pygments_lexer": "ipython3",
   "version": "3.11.3"
  }
 },
 "nbformat": 4,
 "nbformat_minor": 5
}
