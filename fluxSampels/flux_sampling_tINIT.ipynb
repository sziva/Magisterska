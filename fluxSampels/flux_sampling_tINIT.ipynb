{
 "cells": [
  {
   "cell_type": "code",
   "execution_count": 2,
   "id": "4e49db7b",
   "metadata": {},
   "outputs": [],
   "source": [
    "import pandas as pd\n",
    "import numpy as np\n",
    "\n",
    "import pickle\n",
    "import os\n",
    "import os.path\n",
    "\n",
    "import scipy.io\n",
    "from scipy.linalg import LinAlgError  # Import LinAlgError\n",
    "\n",
    "import cobra\n",
    "from cobra.io import load_model, load_matlab_model\n",
    "from cobra.sampling import OptGPSampler, ACHRSampler, sample"
   ]
  },
  {
   "cell_type": "code",
   "execution_count": 3,
   "id": "48055b42",
   "metadata": {},
   "outputs": [],
   "source": [
    "folder_path = '/Users/zivaskof/Documents/MATLAB/mag/tINITmodels'\n",
    "output_path = '/Users/zivaskof/Documents/MATLAB/mag/fluxSampels/tInitSampels'"
   ]
  },
  {
   "cell_type": "code",
   "execution_count": 6,
   "id": "5c97ec85",
   "metadata": {},
   "outputs": [
    {
     "name": "stdout",
     "output_type": "stream",
     "text": [
      "KU_44T.mat\n",
      "KU_45N.mat\n",
      "KU_45T.mat\n",
      "KU_46N.mat\n",
      "KU_46T.mat\n",
      "KU_47N.mat\n",
      "KU_48N.mat\n",
      "KU_48T.mat\n",
      "KU_49N.mat\n",
      "KU_49T.mat\n",
      "KU_50N.mat\n",
      "KU_50T.mat\n"
     ]
    }
   ],
   "source": [
    "filenames = os.listdir(folder_path)\n",
    "filenames.sort()\n",
    "\n",
    "for filename in filenames[128:]:\n",
    "    if not filename.startswith('.'):\n",
    "        print(filename)\n",
    "\n",
    "        file_path = os.path.join(folder_path, filename)\n",
    "\n",
    "        try:\n",
    "            model = load_matlab_model(file_path)\n",
    "\n",
    "            model_sample = sample(model, 1000, method=\"achr\")\n",
    "\n",
    "            new_file_name = \"tINIT_flux_sample_\" + filename[:-4] + \".csv\"\n",
    "            csv_file_path = os.path.join(output_path, new_file_name)\n",
    "\n",
    "           # df_model_sample = pd.DataFrame(model_sample)\n",
    "            model_sample.to_csv(csv_file_path, index=False) \n",
    "            #np.save(new_file_name, model_sample, index = False)\n",
    "        \n",
    "        except LinAlgError as e:\n",
    "            print(f\"Error processing {filename}: {e}\")\n",
    "            continue  # Skip to the next iteration"
   ]
  },
  {
   "cell_type": "code",
   "execution_count": null,
   "id": "2ed18094",
   "metadata": {},
   "outputs": [],
   "source": []
  }
 ],
 "metadata": {
  "kernelspec": {
   "display_name": "Python 3 (ipykernel)",
   "language": "python",
   "name": "python3"
  },
  "language_info": {
   "codemirror_mode": {
    "name": "ipython",
    "version": 3
   },
   "file_extension": ".py",
   "mimetype": "text/x-python",
   "name": "python",
   "nbconvert_exporter": "python",
   "pygments_lexer": "ipython3",
   "version": "3.11.3"
  }
 },
 "nbformat": 4,
 "nbformat_minor": 5
}
