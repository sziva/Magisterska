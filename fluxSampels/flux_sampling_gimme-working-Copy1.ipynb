{
 "cells": [
  {
   "cell_type": "code",
   "execution_count": 1,
   "id": "d76ede3f",
   "metadata": {},
   "outputs": [],
   "source": [
    "import pandas as pd\n",
    "import numpy as np\n",
    "\n",
    "import pickle\n",
    "import os\n",
    "import os.path\n",
    "\n",
    "import scipy.io\n",
    "from scipy.linalg import LinAlgError  # Import LinAlgError\n",
    "\n",
    "import cobra\n",
    "from cobra.io import load_model, load_matlab_model\n",
    "from cobra.sampling import OptGPSampler, ACHRSampler, sample"
   ]
  },
  {
   "cell_type": "code",
   "execution_count": 2,
   "id": "1507d27e",
   "metadata": {},
   "outputs": [],
   "source": [
    "folder_path = '/Users/zivaskof/Documents/MATLAB/mag/GimmeModels/gimme_cobra'\n",
    "output_path = '/Users/zivaskof/Documents/MATLAB/mag/fluxSampels/GimmeSampels/cobra'"
   ]
  },
  {
   "cell_type": "code",
   "execution_count": null,
   "id": "dfd1f45f",
   "metadata": {},
   "outputs": [
    {
     "name": "stdout",
     "output_type": "stream",
     "text": [
      "29\n",
      "Gimme_modelC_H_KU_08N.mat\n"
     ]
    },
    {
     "name": "stderr",
     "output_type": "stream",
     "text": [
      "No defined compartments in model Gimme_model_H. Compartments will be deduced heuristically using regular expressions.\n",
      "Using regular expression found the following compartments:c, e, g, i, l, m, n, r, x\n"
     ]
    },
    {
     "name": "stdout",
     "output_type": "stream",
     "text": [
      "30\n",
      "Gimme_modelC_H_KU_09N.mat\n"
     ]
    },
    {
     "name": "stderr",
     "output_type": "stream",
     "text": [
      "No defined compartments in model Gimme_model_H. Compartments will be deduced heuristically using regular expressions.\n",
      "Using regular expression found the following compartments:c, e, g, i, l, m, n, r, x\n"
     ]
    },
    {
     "name": "stdout",
     "output_type": "stream",
     "text": [
      "Error processing Gimme_modelC_H_KU_09N.mat: SVD did not converge\n",
      "31\n",
      "Gimme_modelC_H_KU_10N.mat\n"
     ]
    },
    {
     "name": "stderr",
     "output_type": "stream",
     "text": [
      "No defined compartments in model Gimme_model_H. Compartments will be deduced heuristically using regular expressions.\n",
      "Using regular expression found the following compartments:c, e, g, i, l, m, n, r, x\n"
     ]
    },
    {
     "name": "stdout",
     "output_type": "stream",
     "text": [
      "32\n",
      "Gimme_modelC_H_KU_11N.mat\n"
     ]
    },
    {
     "name": "stderr",
     "output_type": "stream",
     "text": [
      "No defined compartments in model Gimme_model_H. Compartments will be deduced heuristically using regular expressions.\n",
      "Using regular expression found the following compartments:c, e, g, i, l, m, n, r, x\n"
     ]
    },
    {
     "name": "stdout",
     "output_type": "stream",
     "text": [
      "Error processing Gimme_modelC_H_KU_11N.mat: Cannot escape sampling region, model seems to be numerically unstable. Reporting the model to https://github.com/opencobra/cobrapy/issues will help us to fix this.\n",
      "33\n",
      "Gimme_modelC_H_KU_12N.mat\n"
     ]
    },
    {
     "name": "stderr",
     "output_type": "stream",
     "text": [
      "No defined compartments in model Gimme_model_H. Compartments will be deduced heuristically using regular expressions.\n",
      "Using regular expression found the following compartments:c, e, g, i, l, m, n, r, x\n"
     ]
    },
    {
     "name": "stdout",
     "output_type": "stream",
     "text": [
      "Error processing Gimme_modelC_H_KU_12N.mat: Cannot escape sampling region, model seems to be numerically unstable. Reporting the model to https://github.com/opencobra/cobrapy/issues will help us to fix this.\n",
      "34\n",
      "Gimme_modelC_H_KU_13N.mat\n"
     ]
    },
    {
     "name": "stderr",
     "output_type": "stream",
     "text": [
      "No defined compartments in model Gimme_model_H. Compartments will be deduced heuristically using regular expressions.\n",
      "Using regular expression found the following compartments:c, e, g, i, l, m, n, r, x\n"
     ]
    },
    {
     "name": "stdout",
     "output_type": "stream",
     "text": [
      "35\n",
      "Gimme_modelC_H_KU_14N.mat\n"
     ]
    },
    {
     "name": "stderr",
     "output_type": "stream",
     "text": [
      "No defined compartments in model Gimme_model_H. Compartments will be deduced heuristically using regular expressions.\n",
      "Using regular expression found the following compartments:c, e, g, i, l, m, n, r, x\n"
     ]
    }
   ],
   "source": [
    "filenames = os.listdir(folder_path)\n",
    "filenames.sort()\n",
    "\n",
    "i = 28\n",
    "for filename in filenames[29:]:\n",
    "    i = i+1\n",
    "    print(i)\n",
    "    if not filename.startswith('.'):\n",
    "        print(filename)\n",
    "        file_path = os.path.join(folder_path, filename)\n",
    "\n",
    "        try:\n",
    "            model = load_matlab_model(file_path)\n",
    "            model_sample = sample(model, 1000, method=\"achr\")\n",
    "\n",
    "            file_name = filename.split(\"_\", maxsplit=3)[-1][:-4]\n",
    "            new_file_name = \"gimme_flux_sample_\" + file_name + \".csv\"\n",
    "            csv_file_path = os.path.join(output_path, new_file_name)\n",
    "\n",
    "            model_sample.to_csv(csv_file_path, index=False) \n",
    "            #np.save(new_file_name, model_sample, index = False)\n",
    "\n",
    "        except Exception as e:\n",
    "                print(f\"Error processing {filename}: {e}\")\n",
    "                continue  # Skip to the next iteration"
   ]
  },
  {
   "cell_type": "code",
   "execution_count": null,
   "id": "b6274e62",
   "metadata": {},
   "outputs": [],
   "source": []
  }
 ],
 "metadata": {
  "kernelspec": {
   "display_name": "Python 3 (ipykernel)",
   "language": "python",
   "name": "python3"
  },
  "language_info": {
   "codemirror_mode": {
    "name": "ipython",
    "version": 3
   },
   "file_extension": ".py",
   "mimetype": "text/x-python",
   "name": "python",
   "nbconvert_exporter": "python",
   "pygments_lexer": "ipython3",
   "version": "3.11.3"
  }
 },
 "nbformat": 4,
 "nbformat_minor": 5
}
